{
 "cells": [
  {
   "cell_type": "code",
   "execution_count": null,
   "id": "38fd3372",
   "metadata": {},
   "outputs": [],
   "source": [
    "x1 = -1\n",
    "y1 = -1\n",
    "def mouse_tracking(event, x, y, flags, param):\n",
    "    global x1, y1\n",
    "    if event == 1 :\n",
    "        x1 = x\n",
    "        y1 = y\n",
    "    elif event == 2 :\n",
    "          #cv2.line(img,(x1,y1),(x,y),(0,0,0),2)\n",
    "           cv2.circle(img,(x,y),5,(277,178,10),-1)\n",
    "        #cv2.circle(img,(x,y),5,(255,255,255),-1)\n",
    "\n",
    "    elif event ==10:\n",
    "\n",
    "          #cv2.circle(img,(x,y),5,(20,0,255),-1)\n",
    "        cv2.circle(img,(x,y),5,(255,0,0),-1)\n",
    "          #cv2.circle(img,(x,y),20,(136,22,17),-1)\n",
    "          #cv2.rectangle(img,(x1,y1),(x,y),(18,4,89),-1)\n",
    "          #cv2.putText(img,\"LEVEL COMPLETED\",(300,280),cv2.FONT_HERSHEY_COMPLEX,1,(22,59,240),4)\n",
    "cv2.namedWindow(\"mouse tracking\",flags = cv2.WINDOW_FREERATIO)\n",
    "cv2.setMouseCallback(\"mouse tracking\", mouse_tracking)\n",
    "c=232\n",
    "\n",
    "black_image =  np.zeros((1000,1000,3),dtype=np.uint8)\n",
    "\n",
    "while True:\n",
    "    cv2.imshow(\"mouse tracking\",img)\n",
    "    if cv2.waitKey(1) & 255 ==ord(\"s\"):\n",
    "        cv2.imwrite(r\"C:\\Users\\laksh\\Downloads\\Animation{}.jpg\".format(c),img)\n",
    "        print(\"image is captured\")\n",
    "        c=c+1\n",
    "    if cv2.waitKey(1) & 255 == ord(\"q\"):\n",
    "        break\n",
    "cv2.destroyAllWindows()\n",
    "frames = os.listdir(r\"C:\\Users\\laksh\\Downloads\\animation\")\n",
    "import re\n",
    "frame_file = [f for f in frames if f.endswith(('.jpg'))]\n",
    "frame_file.sort(key=lambda x: int(re.findall(r'\\d+', os.path.splitext(x)[0])[0]))"
   ]
  }
 ],
 "metadata": {
  "kernelspec": {
   "display_name": "Python 3 (ipykernel)",
   "language": "python",
   "name": "python3"
  },
  "language_info": {
   "codemirror_mode": {
    "name": "ipython",
    "version": 3
   },
   "file_extension": ".py",
   "mimetype": "text/x-python",
   "name": "python",
   "nbconvert_exporter": "python",
   "pygments_lexer": "ipython3",
   "version": "3.11.5"
  }
 },
 "nbformat": 4,
 "nbformat_minor": 5
}
